{
 "cells": [
  {
   "cell_type": "markdown",
   "metadata": {
    "deletable": true,
    "editable": true
   },
   "source": [
    "# Splice-junction Gene Sequences Data Set \n"
   ]
  },
  {
   "cell_type": "code",
   "execution_count": 115,
   "metadata": {
    "collapsed": true,
    "deletable": true,
    "editable": true
   },
   "outputs": [],
   "source": [
    "\n",
    "#Imports\n",
    "%matplotlib inline\n",
    "import pandas as pd\n",
    "import numpy as np\n",
    "from sklearn.preprocessing import LabelEncoder"
   ]
  },
  {
   "cell_type": "markdown",
   "metadata": {
    "deletable": true,
    "editable": true
   },
   "source": [
    "### Load the dataset"
   ]
  },
  {
   "cell_type": "code",
   "execution_count": 116,
   "metadata": {
    "collapsed": false,
    "deletable": true,
    "editable": true,
    "scrolled": false
   },
   "outputs": [
    {
     "data": {
      "text/html": [
       "<div>\n",
       "<style>\n",
       "    .dataframe thead tr:only-child th {\n",
       "        text-align: right;\n",
       "    }\n",
       "\n",
       "    .dataframe thead th {\n",
       "        text-align: left;\n",
       "    }\n",
       "\n",
       "    .dataframe tbody tr th {\n",
       "        vertical-align: top;\n",
       "    }\n",
       "</style>\n",
       "<table border=\"1\" class=\"dataframe\">\n",
       "  <thead>\n",
       "    <tr style=\"text-align: right;\">\n",
       "      <th></th>\n",
       "      <th>classlabel</th>\n",
       "      <th>name</th>\n",
       "      <th>sequence</th>\n",
       "    </tr>\n",
       "  </thead>\n",
       "  <tbody>\n",
       "    <tr>\n",
       "      <th>3185</th>\n",
       "      <td>N</td>\n",
       "      <td>ORAHBPSBD-NEG-2881</td>\n",
       "      <td>TCTCTTCCCTTCCCCTCTCTCTTTCTTTCTTTT...</td>\n",
       "    </tr>\n",
       "    <tr>\n",
       "      <th>3186</th>\n",
       "      <td>N</td>\n",
       "      <td>ORAINVOL-NEG-2161</td>\n",
       "      <td>GAGCTCCCAGAGCAGCAAGAGGGCCAGCTGAA...</td>\n",
       "    </tr>\n",
       "    <tr>\n",
       "      <th>3187</th>\n",
       "      <td>N</td>\n",
       "      <td>ORARGIT-NEG-241</td>\n",
       "      <td>TCTCGGGGGCGGCCGGCGCGGCGGGGAGCG...</td>\n",
       "    </tr>\n",
       "    <tr>\n",
       "      <th>3188</th>\n",
       "      <td>N</td>\n",
       "      <td>TARHBB-NEG-541</td>\n",
       "      <td>ATTCTACTTAGTAAACATAATTTCTTGTG...</td>\n",
       "    </tr>\n",
       "    <tr>\n",
       "      <th>3189</th>\n",
       "      <td>N</td>\n",
       "      <td>TARHBD-NEG-1981</td>\n",
       "      <td>AGGCTGCCTATCAGAAGGTGGTGGCTGGTG...</td>\n",
       "    </tr>\n",
       "  </tbody>\n",
       "</table>\n",
       "</div>"
      ],
      "text/plain": [
       "     classlabel                     name  \\\n",
       "3185          N       ORAHBPSBD-NEG-2881   \n",
       "3186          N        ORAINVOL-NEG-2161   \n",
       "3187          N          ORARGIT-NEG-241   \n",
       "3188          N           TARHBB-NEG-541   \n",
       "3189          N          TARHBD-NEG-1981   \n",
       "\n",
       "                                               sequence  \n",
       "3185               TCTCTTCCCTTCCCCTCTCTCTTTCTTTCTTTT...  \n",
       "3186                GAGCTCCCAGAGCAGCAAGAGGGCCAGCTGAA...  \n",
       "3187                  TCTCGGGGGCGGCCGGCGCGGCGGGGAGCG...  \n",
       "3188                   ATTCTACTTAGTAAACATAATTTCTTGTG...  \n",
       "3189                  AGGCTGCCTATCAGAAGGTGGTGGCTGGTG...  "
      ]
     },
     "execution_count": 116,
     "metadata": {},
     "output_type": "execute_result"
    }
   ],
   "source": [
    "df = pd.read_csv(\"splice.data\", header=None)\n",
    "df.columns = ['classlabel', 'name', 'sequence']\n",
    "df.tail()\n"
   ]
  },
  {
   "cell_type": "code",
   "execution_count": 117,
   "metadata": {
    "collapsed": false
   },
   "outputs": [
    {
     "data": {
      "text/plain": [
       "array([0, 0, 0, ..., 2, 2, 2])"
      ]
     },
     "execution_count": 117,
     "metadata": {},
     "output_type": "execute_result"
    }
   ],
   "source": [
    "# Encoding class labels\n",
    "class_le = LabelEncoder()\n",
    "y = class_le.fit_transform(df['classlabel'].values)\n",
    "y"
   ]
  },
  {
   "cell_type": "code",
   "execution_count": 118,
   "metadata": {
    "collapsed": false
   },
   "outputs": [
    {
     "name": "stdout",
     "output_type": "stream",
     "text": [
      "               CCAGCTGCATCACAGGAGGCCAGCGAGCAGGTCTGTTCCAAGGGCCTTCGAGCCAGTCTG\n",
      "(3190,)\n"
     ]
    }
   ],
   "source": [
    "# Encoding sequence\n",
    "# Here we use one hot encoding to encode the character in DNA sequence. \n",
    "# So each dna sequence is converted to a 60x8 2D array \n",
    "def Seq2Vec(seq):\n",
    "    s = str(seq).strip()\n",
    "    CharDict = { \"A\":[0,0,0,0,0,0,0,1],\n",
    "                 \"G\":[0,0,0,0,0,0,1,0],\n",
    "                 \"C\":[0,0,0,0,0,1,0,0],\n",
    "                 \"T\":[0,0,0,0,1,0,0,0],\n",
    "                 \"D\":[0,0,0,1,0,0,0,0],\n",
    "                 \"N\":[0,0,1,0,0,0,0,0],\n",
    "                 \"S\":[0,1,0,0,0,0,0,0],\n",
    "                 \"R\":[1,0,0,0,0,0,0,0]}\n",
    "    return np.asarray([CharDict[c] for c in s]).flatten()\n",
    "   \n",
    "df['seqvec'] = df['sequence'].apply(Seq2Vec)\n",
    "X = df['seqvec'].values\n",
    "print(df['sequence'][0])\n",
    "print(X.shape)"
   ]
  },
  {
   "cell_type": "code",
   "execution_count": 119,
   "metadata": {
    "collapsed": false
   },
   "outputs": [
    {
     "name": "stdout",
     "output_type": "stream",
     "text": [
      "(2552, 480)\n"
     ]
    }
   ],
   "source": [
    "# Split the data set into training/test set\n",
    "from sklearn.model_selection import StratifiedShuffleSplit\n",
    "sss = StratifiedShuffleSplit(n_splits=3, test_size=0.2, random_state=0)\n",
    "for train_index, test_index in sss.split(X, y):\n",
    "    X_train, X_test = np.vstack(X[train_index]), np.vstack(X[test_index])\n",
    "    y_train, y_test = np.vstack(y[train_index]), np.vstack(y[test_index])\n",
    "    \n",
    "print(X_train.shape)\n"
   ]
  },
  {
   "cell_type": "code",
   "execution_count": 120,
   "metadata": {
    "collapsed": false
   },
   "outputs": [
    {
     "name": "stdout",
     "output_type": "stream",
     "text": [
      "WARNING:tensorflow:Using temporary folder as model directory: /var/folders/ch/l4bf90c14yjgtbj680lfrd080000gn/T/tmp6kcmb9xo\n",
      "INFO:tensorflow:Using default config.\n",
      "INFO:tensorflow:Using config: {'_save_summary_steps': 100, '_keep_checkpoint_max': 5, '_task_type': None, '_is_chief': True, '_evaluation_master': '', '_save_checkpoints_steps': None, '_master': '', '_keep_checkpoint_every_n_hours': 10000, '_num_ps_replicas': 0, '_cluster_spec': <tensorflow.python.training.server_lib.ClusterSpec object at 0x11c3c0710>, '_tf_random_seed': None, '_task_id': 0, '_tf_config': gpu_options {\n",
      "  per_process_gpu_memory_fraction: 1\n",
      "}\n",
      ", '_save_checkpoints_secs': 600, '_environment': 'local'}\n",
      "WARNING:tensorflow:From <ipython-input-120-8d7a4ffcf517>:7: calling BaseEstimator.fit (from tensorflow.contrib.learn.python.learn.estimators.estimator) with y is deprecated and will be removed after 2016-12-01.\n",
      "Instructions for updating:\n",
      "Estimator is decoupled from Scikit Learn interface by moving into\n",
      "separate class SKCompat. Arguments x, y and batch_size are only\n",
      "available in the SKCompat class, Estimator will only accept input_fn.\n",
      "Example conversion:\n",
      "  est = Estimator(...) -> est = SKCompat(Estimator(...))\n",
      "WARNING:tensorflow:From <ipython-input-120-8d7a4ffcf517>:7: calling BaseEstimator.fit (from tensorflow.contrib.learn.python.learn.estimators.estimator) with batch_size is deprecated and will be removed after 2016-12-01.\n",
      "Instructions for updating:\n",
      "Estimator is decoupled from Scikit Learn interface by moving into\n",
      "separate class SKCompat. Arguments x, y and batch_size are only\n",
      "available in the SKCompat class, Estimator will only accept input_fn.\n",
      "Example conversion:\n",
      "  est = Estimator(...) -> est = SKCompat(Estimator(...))\n",
      "WARNING:tensorflow:From <ipython-input-120-8d7a4ffcf517>:7: calling BaseEstimator.fit (from tensorflow.contrib.learn.python.learn.estimators.estimator) with x is deprecated and will be removed after 2016-12-01.\n",
      "Instructions for updating:\n",
      "Estimator is decoupled from Scikit Learn interface by moving into\n",
      "separate class SKCompat. Arguments x, y and batch_size are only\n",
      "available in the SKCompat class, Estimator will only accept input_fn.\n",
      "Example conversion:\n",
      "  est = Estimator(...) -> est = SKCompat(Estimator(...))\n",
      "WARNING:tensorflow:From /Users/binzhu/miniconda2/envs/tensorflow/lib/python3.5/site-packages/tensorflow/contrib/learn/python/learn/estimators/head.py:1362: scalar_summary (from tensorflow.python.ops.logging_ops) is deprecated and will be removed after 2016-11-30.\n",
      "Instructions for updating:\n",
      "Please switch to tf.summary.scalar. Note that tf.summary.scalar uses the node name instead of the tag. This means that TensorFlow will automatically de-duplicate summary names based on the scope they are created in. Also, passing a tensor or list of tags to a scalar summary op is no longer supported.\n"
     ]
    },
    {
     "name": "stderr",
     "output_type": "stream",
     "text": [
      "/Users/binzhu/miniconda2/envs/tensorflow/lib/python3.5/site-packages/tensorflow/python/util/deprecation.py:247: FutureWarning: comparison to `None` will result in an elementwise object comparison in the future.\n",
      "  equality = a == b\n"
     ]
    },
    {
     "name": "stdout",
     "output_type": "stream",
     "text": [
      "INFO:tensorflow:Create CheckpointSaverHook.\n",
      "INFO:tensorflow:Saving checkpoints for 1 into /var/folders/ch/l4bf90c14yjgtbj680lfrd080000gn/T/tmp6kcmb9xo/model.ckpt.\n",
      "INFO:tensorflow:loss = 1.03525, step = 1\n",
      "INFO:tensorflow:global_step/sec: 233.867\n",
      "INFO:tensorflow:loss = 0.11482, step = 101\n",
      "INFO:tensorflow:global_step/sec: 298.996\n",
      "INFO:tensorflow:loss = 0.038842, step = 201\n",
      "INFO:tensorflow:global_step/sec: 288.208\n",
      "INFO:tensorflow:loss = 0.0166596, step = 301\n",
      "INFO:tensorflow:global_step/sec: 302.995\n",
      "INFO:tensorflow:loss = 0.00606049, step = 401\n",
      "INFO:tensorflow:global_step/sec: 298.476\n",
      "INFO:tensorflow:loss = 0.00620421, step = 501\n",
      "INFO:tensorflow:global_step/sec: 295.099\n",
      "INFO:tensorflow:loss = 0.00597448, step = 601\n",
      "INFO:tensorflow:global_step/sec: 300.488\n",
      "INFO:tensorflow:loss = 0.0058389, step = 701\n",
      "INFO:tensorflow:global_step/sec: 225.242\n",
      "INFO:tensorflow:loss = 0.00170447, step = 801\n",
      "INFO:tensorflow:global_step/sec: 274.021\n",
      "INFO:tensorflow:loss = 0.00333672, step = 901\n",
      "INFO:tensorflow:global_step/sec: 283.007\n",
      "INFO:tensorflow:loss = 0.00213917, step = 1001\n",
      "INFO:tensorflow:global_step/sec: 272.138\n",
      "INFO:tensorflow:loss = 0.00229975, step = 1101\n",
      "INFO:tensorflow:global_step/sec: 291.025\n",
      "INFO:tensorflow:loss = 0.00211097, step = 1201\n",
      "INFO:tensorflow:global_step/sec: 206.205\n",
      "INFO:tensorflow:loss = 0.00132117, step = 1301\n",
      "INFO:tensorflow:global_step/sec: 288.193\n",
      "INFO:tensorflow:loss = 0.000834723, step = 1401\n",
      "INFO:tensorflow:global_step/sec: 227.301\n",
      "INFO:tensorflow:loss = 0.000931819, step = 1501\n",
      "INFO:tensorflow:global_step/sec: 277.303\n",
      "INFO:tensorflow:loss = 0.000996776, step = 1601\n",
      "INFO:tensorflow:global_step/sec: 267.768\n",
      "INFO:tensorflow:loss = 0.00101263, step = 1701\n",
      "INFO:tensorflow:global_step/sec: 228.99\n",
      "INFO:tensorflow:loss = 0.000940793, step = 1801\n",
      "INFO:tensorflow:global_step/sec: 292.444\n",
      "INFO:tensorflow:loss = 0.00168757, step = 1901\n",
      "INFO:tensorflow:global_step/sec: 264.37\n",
      "INFO:tensorflow:loss = 0.000780542, step = 2001\n",
      "INFO:tensorflow:global_step/sec: 296.846\n",
      "INFO:tensorflow:loss = 0.00118736, step = 2101\n",
      "INFO:tensorflow:global_step/sec: 282.193\n",
      "INFO:tensorflow:loss = 0.000327673, step = 2201\n",
      "INFO:tensorflow:global_step/sec: 301.114\n",
      "INFO:tensorflow:loss = 0.000430769, step = 2301\n",
      "INFO:tensorflow:global_step/sec: 304.109\n",
      "INFO:tensorflow:loss = 0.000561015, step = 2401\n",
      "INFO:tensorflow:global_step/sec: 300.776\n",
      "INFO:tensorflow:loss = 0.000819518, step = 2501\n",
      "INFO:tensorflow:global_step/sec: 187.731\n",
      "INFO:tensorflow:loss = 0.000802559, step = 2601\n",
      "INFO:tensorflow:global_step/sec: 308.697\n",
      "INFO:tensorflow:loss = 0.000439481, step = 2701\n",
      "INFO:tensorflow:global_step/sec: 281.048\n",
      "INFO:tensorflow:loss = 0.000216722, step = 2801\n",
      "INFO:tensorflow:global_step/sec: 300.729\n",
      "INFO:tensorflow:loss = 0.000409552, step = 2901\n",
      "INFO:tensorflow:global_step/sec: 202.325\n",
      "INFO:tensorflow:loss = 0.000289921, step = 3001\n",
      "INFO:tensorflow:global_step/sec: 264.506\n",
      "INFO:tensorflow:loss = 0.000458357, step = 3101\n",
      "INFO:tensorflow:global_step/sec: 195.814\n",
      "INFO:tensorflow:loss = 0.0004743, step = 3201\n",
      "INFO:tensorflow:global_step/sec: 207.19\n",
      "INFO:tensorflow:loss = 0.000651499, step = 3301\n",
      "INFO:tensorflow:global_step/sec: 195.722\n",
      "INFO:tensorflow:loss = 0.00055711, step = 3401\n",
      "INFO:tensorflow:global_step/sec: 274.527\n",
      "INFO:tensorflow:loss = 0.00051077, step = 3501\n",
      "INFO:tensorflow:global_step/sec: 300.446\n",
      "INFO:tensorflow:loss = 0.000203301, step = 3601\n",
      "INFO:tensorflow:global_step/sec: 184.84\n",
      "INFO:tensorflow:loss = 0.000425314, step = 3701\n",
      "INFO:tensorflow:global_step/sec: 227.138\n",
      "INFO:tensorflow:loss = 0.000243562, step = 3801\n",
      "INFO:tensorflow:global_step/sec: 294.975\n",
      "INFO:tensorflow:loss = 0.000494702, step = 3901\n",
      "INFO:tensorflow:global_step/sec: 187.751\n",
      "INFO:tensorflow:loss = 0.000283744, step = 4001\n",
      "INFO:tensorflow:global_step/sec: 276.32\n",
      "INFO:tensorflow:loss = 0.000303716, step = 4101\n",
      "INFO:tensorflow:global_step/sec: 215.15\n",
      "INFO:tensorflow:loss = 0.000359202, step = 4201\n",
      "INFO:tensorflow:global_step/sec: 281.271\n",
      "INFO:tensorflow:loss = 0.000338623, step = 4301\n",
      "INFO:tensorflow:global_step/sec: 211.419\n",
      "INFO:tensorflow:loss = 0.000253578, step = 4401\n",
      "INFO:tensorflow:global_step/sec: 241.973\n",
      "INFO:tensorflow:loss = 0.000157658, step = 4501\n",
      "INFO:tensorflow:global_step/sec: 270.927\n",
      "INFO:tensorflow:loss = 0.000253461, step = 4601\n",
      "INFO:tensorflow:global_step/sec: 215.206\n",
      "INFO:tensorflow:loss = 0.000221895, step = 4701\n",
      "INFO:tensorflow:global_step/sec: 193.583\n",
      "INFO:tensorflow:loss = 0.000248607, step = 4801\n",
      "INFO:tensorflow:global_step/sec: 166.374\n",
      "INFO:tensorflow:loss = 9.10744e-05, step = 4901\n",
      "INFO:tensorflow:Saving checkpoints for 5000 into /var/folders/ch/l4bf90c14yjgtbj680lfrd080000gn/T/tmp6kcmb9xo/model.ckpt.\n",
      "INFO:tensorflow:Loss for final step: 0.000351424.\n",
      "WARNING:tensorflow:From /Users/binzhu/miniconda2/envs/tensorflow/lib/python3.5/site-packages/tensorflow/contrib/learn/python/learn/estimators/dnn.py:374: calling BaseEstimator.predict (from tensorflow.contrib.learn.python.learn.estimators.estimator) with x is deprecated and will be removed after 2016-12-01.\n",
      "Instructions for updating:\n",
      "Estimator is decoupled from Scikit Learn interface by moving into\n",
      "separate class SKCompat. Arguments x, y and batch_size are only\n",
      "available in the SKCompat class, Estimator will only accept input_fn.\n",
      "Example conversion:\n",
      "  est = Estimator(...) -> est = SKCompat(Estimator(...))\n"
     ]
    },
    {
     "data": {
      "text/plain": [
       "0.95141065830721006"
      ]
     },
     "execution_count": 120,
     "metadata": {},
     "output_type": "execute_result"
    }
   ],
   "source": [
    "import tensorflow as tf\n",
    "\n",
    "\n",
    "feature_columns = tf.contrib.learn.infer_real_valued_columns_from_input(X_train)\n",
    "dnn_clf = tf.contrib.learn.DNNClassifier(hidden_units=[300, 100], n_classes=3,\n",
    "                                         feature_columns=feature_columns)\n",
    "dnn_clf.fit(x=X_train, y=y_train, batch_size=50, steps=5000)\n",
    "\n",
    "from sklearn.metrics import accuracy_score\n",
    "\n",
    "y_pred = list(dnn_clf.predict(X_test))\n",
    "accuracy = accuracy_score(y_test, y_pred)\n",
    "accuracy"
   ]
  },
  {
   "cell_type": "code",
   "execution_count": null,
   "metadata": {
    "collapsed": true,
    "deletable": true,
    "editable": true
   },
   "outputs": [],
   "source": []
  }
 ],
 "metadata": {
  "anaconda-cloud": {},
  "kernelspec": {
   "display_name": "Python 3",
   "language": "python",
   "name": "python3"
  },
  "language_info": {
   "codemirror_mode": {
    "name": "ipython",
    "version": 3
   },
   "file_extension": ".py",
   "mimetype": "text/x-python",
   "name": "python",
   "nbconvert_exporter": "python",
   "pygments_lexer": "ipython3",
   "version": "3.5.3"
  }
 },
 "nbformat": 4,
 "nbformat_minor": 1
}
