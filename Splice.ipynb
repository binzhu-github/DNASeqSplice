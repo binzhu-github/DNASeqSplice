{
 "cells": [
  {
   "cell_type": "markdown",
   "metadata": {
    "deletable": true,
    "editable": true
   },
   "source": [
    "# Splice-junction Gene Sequences Data Set \n"
   ]
  },
  {
   "cell_type": "code",
   "execution_count": 25,
   "metadata": {
    "collapsed": true,
    "deletable": true,
    "editable": true
   },
   "outputs": [],
   "source": [
    "\n",
    "#Imports\n",
    "%matplotlib inline\n",
    "import pandas as pd\n",
    "import numpy as np\n",
    "from sklearn.model_selection import StratifiedShuffleSplit\n",
    "from sklearn.preprocessing import LabelEncoder\n",
    "import tensorflow as tf"
   ]
  },
  {
   "cell_type": "markdown",
   "metadata": {
    "deletable": true,
    "editable": true
   },
   "source": [
    "### Load the dataset"
   ]
  },
  {
   "cell_type": "code",
   "execution_count": 26,
   "metadata": {
    "collapsed": false,
    "deletable": true,
    "editable": true,
    "scrolled": false
   },
   "outputs": [
    {
     "data": {
      "text/html": [
       "<div>\n",
       "<style>\n",
       "    .dataframe thead tr:only-child th {\n",
       "        text-align: right;\n",
       "    }\n",
       "\n",
       "    .dataframe thead th {\n",
       "        text-align: left;\n",
       "    }\n",
       "\n",
       "    .dataframe tbody tr th {\n",
       "        vertical-align: top;\n",
       "    }\n",
       "</style>\n",
       "<table border=\"1\" class=\"dataframe\">\n",
       "  <thead>\n",
       "    <tr style=\"text-align: right;\">\n",
       "      <th></th>\n",
       "      <th>classlabel</th>\n",
       "      <th>name</th>\n",
       "      <th>sequence</th>\n",
       "    </tr>\n",
       "  </thead>\n",
       "  <tbody>\n",
       "    <tr>\n",
       "      <th>3185</th>\n",
       "      <td>N</td>\n",
       "      <td>ORAHBPSBD-NEG-2881</td>\n",
       "      <td>TCTCTTCCCTTCCCCTCTCTCTTTCTTTCTTTT...</td>\n",
       "    </tr>\n",
       "    <tr>\n",
       "      <th>3186</th>\n",
       "      <td>N</td>\n",
       "      <td>ORAINVOL-NEG-2161</td>\n",
       "      <td>GAGCTCCCAGAGCAGCAAGAGGGCCAGCTGAA...</td>\n",
       "    </tr>\n",
       "    <tr>\n",
       "      <th>3187</th>\n",
       "      <td>N</td>\n",
       "      <td>ORARGIT-NEG-241</td>\n",
       "      <td>TCTCGGGGGCGGCCGGCGCGGCGGGGAGCG...</td>\n",
       "    </tr>\n",
       "    <tr>\n",
       "      <th>3188</th>\n",
       "      <td>N</td>\n",
       "      <td>TARHBB-NEG-541</td>\n",
       "      <td>ATTCTACTTAGTAAACATAATTTCTTGTG...</td>\n",
       "    </tr>\n",
       "    <tr>\n",
       "      <th>3189</th>\n",
       "      <td>N</td>\n",
       "      <td>TARHBD-NEG-1981</td>\n",
       "      <td>AGGCTGCCTATCAGAAGGTGGTGGCTGGTG...</td>\n",
       "    </tr>\n",
       "  </tbody>\n",
       "</table>\n",
       "</div>"
      ],
      "text/plain": [
       "     classlabel                     name  \\\n",
       "3185          N       ORAHBPSBD-NEG-2881   \n",
       "3186          N        ORAINVOL-NEG-2161   \n",
       "3187          N          ORARGIT-NEG-241   \n",
       "3188          N           TARHBB-NEG-541   \n",
       "3189          N          TARHBD-NEG-1981   \n",
       "\n",
       "                                               sequence  \n",
       "3185               TCTCTTCCCTTCCCCTCTCTCTTTCTTTCTTTT...  \n",
       "3186                GAGCTCCCAGAGCAGCAAGAGGGCCAGCTGAA...  \n",
       "3187                  TCTCGGGGGCGGCCGGCGCGGCGGGGAGCG...  \n",
       "3188                   ATTCTACTTAGTAAACATAATTTCTTGTG...  \n",
       "3189                  AGGCTGCCTATCAGAAGGTGGTGGCTGGTG...  "
      ]
     },
     "execution_count": 26,
     "metadata": {},
     "output_type": "execute_result"
    }
   ],
   "source": [
    "df = pd.read_csv(\"splice.data\", header=None)\n",
    "df.columns = ['classlabel', 'name', 'sequence']\n",
    "df.tail()\n"
   ]
  },
  {
   "cell_type": "code",
   "execution_count": 27,
   "metadata": {
    "collapsed": false,
    "deletable": true,
    "editable": true
   },
   "outputs": [
    {
     "data": {
      "text/plain": [
       "array([0, 0, 0, ..., 2, 2, 2])"
      ]
     },
     "execution_count": 27,
     "metadata": {},
     "output_type": "execute_result"
    }
   ],
   "source": [
    "# Encoding class labels\n",
    "class_le = LabelEncoder()\n",
    "y = class_le.fit_transform(df['classlabel'].values)\n",
    "y"
   ]
  },
  {
   "cell_type": "code",
   "execution_count": 28,
   "metadata": {
    "collapsed": false,
    "deletable": true,
    "editable": true
   },
   "outputs": [
    {
     "name": "stdout",
     "output_type": "stream",
     "text": [
      "               CCAGCTGCATCACAGGAGGCCAGCGAGCAGGTCTGTTCCAAGGGCCTTCGAGCCAGTCTG\n",
      "(3190, 480)\n"
     ]
    }
   ],
   "source": [
    "# Encoding sequence\n",
    "# Here we use one hot encoding to encode the character in DNA sequence. \n",
    "# So each dna sequence is converted to a 60x8 2D array \n",
    "def Seq2Vec(seq):\n",
    "    s = str(seq).strip()\n",
    "    CharDict = { \"A\":[0,0,0,0,0,0,0,1],\n",
    "                 \"G\":[0,0,0,0,0,0,1,0],\n",
    "                 \"C\":[0,0,0,0,0,1,0,0],\n",
    "                 \"T\":[0,0,0,0,1,0,0,0],\n",
    "                 \"D\":[0,0,0,1,0,0,0,0],\n",
    "                 \"N\":[0,0,1,0,0,0,0,0],\n",
    "                 \"S\":[0,1,0,0,0,0,0,0],\n",
    "                 \"R\":[1,0,0,0,0,0,0,0]}\n",
    "    return np.asarray([CharDict[c] for c in s], dtype=np.float32).flatten()\n",
    "   \n",
    "df['seqvec'] = df['sequence'].apply(Seq2Vec)\n",
    "X = np.vstack(df['seqvec'].values)\n",
    "print(df['sequence'][0])\n",
    "print(X.shape)"
   ]
  },
  {
   "cell_type": "code",
   "execution_count": 30,
   "metadata": {
    "collapsed": false,
    "deletable": true,
    "editable": true
   },
   "outputs": [
    {
     "name": "stdout",
     "output_type": "stream",
     "text": [
      "(2552, 480) (638, 480) (2552,) (638,)\n",
      "2552\n"
     ]
    }
   ],
   "source": [
    "# Split the data set into training/test set\n",
    "\n",
    "sss = StratifiedShuffleSplit(n_splits=3, test_size=0.2, random_state=0)\n",
    "for train_index, test_index in sss.split(X, y):\n",
    "    X_train, X_test = X[train_index], X[test_index]\n",
    "    y_train, y_test = y[train_index], y[test_index]\n",
    "    \n",
    "print(X_train.shape, X_test.shape, y_train.shape, y_test.shape)\n",
    "\n"
   ]
  },
  {
   "cell_type": "code",
   "execution_count": 33,
   "metadata": {
    "collapsed": false,
    "deletable": true,
    "editable": true
   },
   "outputs": [],
   "source": [
    "#DNN approach\n",
    "#feature_columns = tf.contrib.learn.infer_real_valued_columns_from_input(X_train)\n",
    "#dnn_clf = tf.contrib.learn.DNNClassifier(hidden_units=[300, 100], n_classes=3,\n",
    "#                                         feature_columns=feature_columns)\n",
    "#dnn_clf.fit(x=X_train, y=y_train, batch_size=50, steps=5000)\n",
    "\n",
    "#from sklearn.metrics import accuracy_score\n",
    "\n",
    "#y_pred = list(dnn_clf.predict(X_test))\n",
    "#accuracy = accuracy_score(y_test, y_pred)\n",
    "#accuracy"
   ]
  },
  {
   "cell_type": "code",
   "execution_count": null,
   "metadata": {
    "collapsed": false,
    "deletable": true,
    "editable": true
   },
   "outputs": [
    {
     "name": "stdout",
     "output_type": "stream",
     "text": [
      "0 Train accuracy: 0.518809 Test_accuracy: 0.518809\n",
      "1 Train accuracy: 0.518809 Test_accuracy: 0.518809\n",
      "2 Train accuracy: 0.518809 Test_accuracy: 0.518809\n",
      "3 Train accuracy: 0.537618 Test_accuracy: 0.537618\n",
      "4 Train accuracy: 0.65674 Test_accuracy: 0.645768\n",
      "5 Train accuracy: 0.692006 Test_accuracy: 0.680251\n",
      "6 Train accuracy: 0.690047 Test_accuracy: 0.670846\n",
      "7 Train accuracy: 0.713166 Test_accuracy: 0.689655\n",
      "8 Train accuracy: 0.762931 Test_accuracy: 0.760188\n",
      "9 Train accuracy: 0.784091 Test_accuracy: 0.778997\n",
      "10 Train accuracy: 0.823668 Test_accuracy: 0.816614\n",
      "11 Train accuracy: 0.833072 Test_accuracy: 0.824451\n",
      "12 Train accuracy: 0.851097 Test_accuracy: 0.835423\n",
      "13 Train accuracy: 0.864028 Test_accuracy: 0.840125\n",
      "14 Train accuracy: 0.887539 Test_accuracy: 0.863636\n",
      "15 Train accuracy: 0.90047 Test_accuracy: 0.877743\n",
      "16 Train accuracy: 0.903213 Test_accuracy: 0.880878\n",
      "17 Train accuracy: 0.92594 Test_accuracy: 0.893417\n",
      "18 Train accuracy: 0.926332 Test_accuracy: 0.899687\n",
      "19 Train accuracy: 0.940439 Test_accuracy: 0.905956\n",
      "20 Train accuracy: 0.944357 Test_accuracy: 0.912226\n",
      "21 Train accuracy: 0.944357 Test_accuracy: 0.916928\n",
      "22 Train accuracy: 0.950235 Test_accuracy: 0.918495\n",
      "23 Train accuracy: 0.954154 Test_accuracy: 0.92163\n",
      "24 Train accuracy: 0.956897 Test_accuracy: 0.920063\n",
      "25 Train accuracy: 0.958856 Test_accuracy: 0.926332\n",
      "26 Train accuracy: 0.953762 Test_accuracy: 0.931035\n",
      "27 Train accuracy: 0.961207 Test_accuracy: 0.931035\n",
      "28 Train accuracy: 0.966301 Test_accuracy: 0.932602\n",
      "29 Train accuracy: 0.965125 Test_accuracy: 0.938872\n",
      "30 Train accuracy: 0.969436 Test_accuracy: 0.942006\n",
      "31 Train accuracy: 0.967868 Test_accuracy: 0.945141\n",
      "32 Train accuracy: 0.969828 Test_accuracy: 0.942006\n",
      "33 Train accuracy: 0.970611 Test_accuracy: 0.943574\n",
      "34 Train accuracy: 0.969828 Test_accuracy: 0.945141\n",
      "35 Train accuracy: 0.973746 Test_accuracy: 0.951411\n",
      "36 Train accuracy: 0.975705 Test_accuracy: 0.946708\n",
      "37 Train accuracy: 0.976097 Test_accuracy: 0.949843\n",
      "38 Train accuracy: 0.977273 Test_accuracy: 0.952978\n",
      "39 Train accuracy: 0.978448 Test_accuracy: 0.951411\n",
      "40 Train accuracy: 0.977665 Test_accuracy: 0.951411\n",
      "41 Train accuracy: 0.980016 Test_accuracy: 0.956113\n",
      "42 Train accuracy: 0.980799 Test_accuracy: 0.952978\n",
      "43 Train accuracy: 0.980799 Test_accuracy: 0.954545\n",
      "44 Train accuracy: 0.982367 Test_accuracy: 0.954545\n",
      "45 Train accuracy: 0.981191 Test_accuracy: 0.956113\n",
      "46 Train accuracy: 0.981975 Test_accuracy: 0.960815\n",
      "47 Train accuracy: 0.98511 Test_accuracy: 0.956113\n",
      "48 Train accuracy: 0.984718 Test_accuracy: 0.95768\n",
      "49 Train accuracy: 0.985502 Test_accuracy: 0.95768\n",
      "50 Train accuracy: 0.985502 Test_accuracy: 0.956113\n",
      "51 Train accuracy: 0.985502 Test_accuracy: 0.948276\n",
      "52 Train accuracy: 0.987069 Test_accuracy: 0.95768\n",
      "53 Train accuracy: 0.98942 Test_accuracy: 0.95768\n",
      "54 Train accuracy: 0.987461 Test_accuracy: 0.954545\n",
      "55 Train accuracy: 0.990204 Test_accuracy: 0.960815\n",
      "56 Train accuracy: 0.990987 Test_accuracy: 0.95768\n",
      "57 Train accuracy: 0.990596 Test_accuracy: 0.956113\n",
      "58 Train accuracy: 0.990204 Test_accuracy: 0.951411\n",
      "59 Train accuracy: 0.991771 Test_accuracy: 0.954545\n",
      "60 Train accuracy: 0.991379 Test_accuracy: 0.959248\n",
      "61 Train accuracy: 0.990596 Test_accuracy: 0.95768\n",
      "62 Train accuracy: 0.992163 Test_accuracy: 0.959248\n",
      "63 Train accuracy: 0.99373 Test_accuracy: 0.956113\n",
      "64 Train accuracy: 0.99373 Test_accuracy: 0.952978\n",
      "65 Train accuracy: 0.99569 Test_accuracy: 0.959248\n",
      "66 Train accuracy: 0.99373 Test_accuracy: 0.951411\n",
      "67 Train accuracy: 0.996473 Test_accuracy: 0.960815\n",
      "68 Train accuracy: 0.994514 Test_accuracy: 0.960815\n",
      "69 Train accuracy: 0.996865 Test_accuracy: 0.956113\n",
      "70 Train accuracy: 0.996082 Test_accuracy: 0.962382\n",
      "71 Train accuracy: 0.996473 Test_accuracy: 0.959248\n",
      "72 Train accuracy: 0.995298 Test_accuracy: 0.954545\n",
      "73 Train accuracy: 0.997257 Test_accuracy: 0.960815\n",
      "74 Train accuracy: 0.998433 Test_accuracy: 0.962382\n",
      "75 Train accuracy: 0.997257 Test_accuracy: 0.960815\n",
      "76 Train accuracy: 0.998433 Test_accuracy: 0.960815\n",
      "77 Train accuracy: 0.998433 Test_accuracy: 0.960815\n",
      "78 Train accuracy: 0.998433 Test_accuracy: 0.959248\n",
      "79 Train accuracy: 0.998433 Test_accuracy: 0.962382\n",
      "80 Train accuracy: 0.998824 Test_accuracy: 0.962382\n",
      "81 Train accuracy: 0.999216 Test_accuracy: 0.960815\n",
      "82 Train accuracy: 0.998433 Test_accuracy: 0.959248\n",
      "83 Train accuracy: 0.998824 Test_accuracy: 0.960815\n",
      "84 Train accuracy: 0.998433 Test_accuracy: 0.959248\n",
      "85 Train accuracy: 0.998824 Test_accuracy: 0.960815\n",
      "86 Train accuracy: 0.999216 Test_accuracy: 0.960815\n",
      "87 Train accuracy: 0.998433 Test_accuracy: 0.960815\n",
      "88 Train accuracy: 0.999216 Test_accuracy: 0.960815\n",
      "89 Train accuracy: 0.997649 Test_accuracy: 0.954545\n",
      "90 Train accuracy: 0.999216 Test_accuracy: 0.962382\n",
      "91 Train accuracy: 0.999216 Test_accuracy: 0.962382\n",
      "92 Train accuracy: 0.999216 Test_accuracy: 0.962382\n",
      "93 Train accuracy: 0.999216 Test_accuracy: 0.962382\n",
      "94 Train accuracy: 0.998824 Test_accuracy: 0.959248\n",
      "95 Train accuracy: 0.999216 Test_accuracy: 0.960815\n"
     ]
    }
   ],
   "source": [
    "#CNN approach\n",
    "conv1_depth = 32\n",
    "conv2_depth = 64\n",
    "conv1_kernel_size = [3, 3]\n",
    "conv2_kernel_size = [3, 3]\n",
    "\n",
    "\n",
    "X = tf.placeholder(tf.float32, shape=(None, 480), name=\"X\")\n",
    "input = tf.reshape(X, [-1, 60, 8, 1])\n",
    "y = tf.placeholder(tf.int32, shape=(None), name=\"y\")\n",
    "\n",
    "conv1 = tf.layers.conv2d(\n",
    "      inputs=input,\n",
    "      filters=conv1_depth,\n",
    "      kernel_size=conv1_kernel_size,\n",
    "      padding=\"same\",\n",
    "      activation=tf.nn.relu)\n",
    "\n",
    "pool1 = tf.layers.max_pooling2d(inputs=conv1, pool_size=[2, 2], strides=2)\n",
    "\n",
    "  # Convolutional Layer #2\n",
    "  # Computes 64 features using a 3x3 filter.\n",
    "  # Padding is added to preserve width and height.\n",
    "  # Input Tensor Shape: [batch_size, 30, 4, 16]\n",
    "  # Output Tensor Shape: [batch_size, 30, 4, 32]\n",
    "conv2 = tf.layers.conv2d(\n",
    "      inputs=pool1,\n",
    "      filters=conv2_depth,\n",
    "      kernel_size=conv2_kernel_size,\n",
    "      padding=\"same\",\n",
    "      activation=tf.nn.relu)\n",
    "\n",
    "pool2 = tf.layers.max_pooling2d(inputs=conv2, pool_size=[2, 2], strides=2)\n",
    "\n",
    "pool2_flat = tf.reshape(pool2, [-1, 15 * 2 * conv2_depth])\n",
    "\n",
    "dense1 = tf.layers.dense(inputs=pool2_flat, units=64, activation=tf.nn.relu)\n",
    "\n",
    "dense2 = tf.layers.dense(inputs=dense1, units=32, activation=tf.nn.relu)\n",
    "\n",
    "logits = tf.layers.dense(inputs=dense2, units=3)\n",
    "\n",
    "entropy = tf.nn.sparse_softmax_cross_entropy_with_logits(labels=y, logits=logits)\n",
    "\n",
    "loss = tf.reduce_mean(entropy)\n",
    "\n",
    "optimizer = tf.train.AdamOptimizer(learning_rate=1e-4).minimize(loss)\n",
    "\n",
    "correct = tf.nn.in_top_k(logits, y, 1)\n",
    "accuracy = tf.reduce_mean(tf.cast(correct, tf.float32))\n",
    "\n",
    "\n",
    "init = tf.global_variables_initializer()\n",
    "\n",
    "\n",
    "def next_batch(num, data, labels):\n",
    "    '''\n",
    "    Return a total of `num` random samples and labels. \n",
    "    '''\n",
    "    idx = np.arange(0, labels.shape[0])\n",
    "    np.random.shuffle(idx)\n",
    "    idx = idx[:num]\n",
    "    data_shuffle = [data[ i] for i in idx]\n",
    "    labels_shuffle = [labels[ i] for i in idx]\n",
    "\n",
    "    return np.asarray(data_shuffle), np.asarray(labels_shuffle)\n",
    "\n",
    "\n",
    "n_epochs = 100\n",
    "batch_size = 100\n",
    "with tf.Session() as sess:\n",
    "    init.run()\n",
    "    for epoch in range(n_epochs):\n",
    "        for iteration in range(y_train.shape[0] // batch_size):\n",
    "            X_batch, y_batch = next_batch(batch_size, X_train, y_train)\n",
    "            sess.run(optimizer, feed_dict={X: X_batch, y: y_batch})\n",
    "\n",
    "        acc_train = accuracy.eval(feed_dict={X: X_train, y: y_train})\n",
    "        acc_test = accuracy.eval(feed_dict={X: X_test, y:y_test})\n",
    "        print(epoch, \"Train accuracy:\", acc_train,  \"Test_accuracy:\", acc_test)\n",
    "\n"
   ]
  },
  {
   "cell_type": "code",
   "execution_count": null,
   "metadata": {
    "collapsed": true,
    "deletable": true,
    "editable": true
   },
   "outputs": [],
   "source": []
  }
 ],
 "metadata": {
  "anaconda-cloud": {},
  "kernelspec": {
   "display_name": "Python 3",
   "language": "python",
   "name": "python3"
  },
  "language_info": {
   "codemirror_mode": {
    "name": "ipython",
    "version": 3
   },
   "file_extension": ".py",
   "mimetype": "text/x-python",
   "name": "python",
   "nbconvert_exporter": "python",
   "pygments_lexer": "ipython3",
   "version": "3.5.3"
  }
 },
 "nbformat": 4,
 "nbformat_minor": 1
}
